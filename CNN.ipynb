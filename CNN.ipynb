{
 "cells": [
  {
   "cell_type": "code",
   "execution_count": 42,
   "metadata": {},
   "outputs": [
    {
     "name": "stdout",
     "output_type": "stream",
     "text": [
      "Requirement already satisfied: tensorflow in c:\\users\\eesha\\appdata\\local\\programs\\python\\python39\\lib\\site-packages (2.5.0)\n"
     ]
    },
    {
     "name": "stderr",
     "output_type": "stream",
     "text": [
      "WARNING: Ignoring invalid distribution -ensorflow (c:\\users\\eesha\\appdata\\roaming\\python\\python39\\site-packages)\n",
      "WARNING: Ignoring invalid distribution -ensorflow-gpu (c:\\users\\eesha\\appdata\\local\\programs\\python\\python39\\lib\\site-packages)\n",
      "WARNING: Ignoring invalid distribution -ensorflow (c:\\users\\eesha\\appdata\\roaming\\python\\python39\\site-packages)\n",
      "WARNING: Ignoring invalid distribution -ensorflow-gpu (c:\\users\\eesha\\appdata\\local\\programs\\python\\python39\\lib\\site-packages)\n",
      "ERROR: Could not install packages due to an OSError: [Errno 2] No such file or directory: 'c:\\\\users\\\\eesha\\\\appdata\\\\local\\\\programs\\\\python\\\\python39\\\\lib\\\\site-packages\\\\tensorflow-2.5.0.dist-info\\\\METADATA'\n",
      "\n",
      "WARNING: Ignoring invalid distribution -ensorflow (c:\\users\\eesha\\appdata\\roaming\\python\\python39\\site-packages)\n",
      "WARNING: Ignoring invalid distribution -ensorflow-gpu (c:\\users\\eesha\\appdata\\local\\programs\\python\\python39\\lib\\site-packages)\n",
      "WARNING: Ignoring invalid distribution -ensorflow (c:\\users\\eesha\\appdata\\roaming\\python\\python39\\site-packages)\n",
      "WARNING: Ignoring invalid distribution -ensorflow-gpu (c:\\users\\eesha\\appdata\\local\\programs\\python\\python39\\lib\\site-packages)\n",
      "WARNING: Ignoring invalid distribution -ensorflow (c:\\users\\eesha\\appdata\\roaming\\python\\python39\\site-packages)\n",
      "WARNING: Ignoring invalid distribution -ensorflow-gpu (c:\\users\\eesha\\appdata\\local\\programs\\python\\python39\\lib\\site-packages)\n"
     ]
    }
   ],
   "source": [
    "!pip install tensorflow"
   ]
  },
  {
   "cell_type": "code",
   "execution_count": 43,
   "metadata": {},
   "outputs": [],
   "source": [
    "import numpy as np\n",
    "import pickle\n",
    "import cv2\n",
    "from os import listdir\n",
    "from sklearn.preprocessing import LabelBinarizer\n",
    "from keras.models import Sequential\n",
    "from tensorflow.keras.layers import BatchNormalization\n",
    "from keras.layers.convolutional import Conv2D\n",
    "from keras.layers.convolutional import MaxPooling2D\n",
    "from keras.layers.core import Activation, Flatten, Dropout, Dense\n",
    "from keras import backend as K\n",
    "from keras.preprocessing.image import ImageDataGenerator\n",
    "from keras.optimizers import Adam\n",
    "from keras.preprocessing import image\n",
    "#from keras.preprocessing.image import img_to_array\n",
    "from tensorflow.keras.utils import img_to_array\n",
    "from sklearn.preprocessing import MultiLabelBinarizer\n",
    "from sklearn.model_selection import train_test_split\n",
    "import matplotlib.pyplot as plt"
   ]
  },
  {
   "cell_type": "code",
   "execution_count": 44,
   "metadata": {},
   "outputs": [],
   "source": [
    "EPOCHS = 25\n",
    "INIT_LR = 1e-3\n",
    "BS = 32\n",
    "default_image_size = tuple((256, 256))\n",
    "image_size = 0\n",
    "directory_root = 'D:/cnn/dataset'\n",
    "width=256\n",
    "height=256\n",
    "depth=3"
   ]
  },
  {
   "cell_type": "code",
   "execution_count": 45,
   "metadata": {},
   "outputs": [],
   "source": [
    "def convert_image_to_array(image_dir):\n",
    "    try:\n",
    "        image = cv2.imread(image_dir)\n",
    "        if image is not None :\n",
    "            image = cv2.resize(image, default_image_size)   \n",
    "            return img_to_array(image)\n",
    "        else :\n",
    "            return np.array([])\n",
    "    except Exception as e:\n",
    "        print(f\"Error : {e}\")\n",
    "        return None"
   ]
  },
  {
   "cell_type": "code",
   "execution_count": 46,
   "metadata": {},
   "outputs": [
    {
     "name": "stdout",
     "output_type": "stream",
     "text": [
      "[INFO] Loading images ...\n",
      "[INFO] Processing Bacterialblight ...\n",
      "[INFO] Processing Blast ...\n",
      "[INFO] Processing Brownspot ...\n",
      "[INFO] Processing Tungro ...\n",
      "[INFO] Image loading completed\n"
     ]
    }
   ],
   "source": [
    "image_list, label_list = [], []\n",
    "try:\n",
    "    print(\"[INFO] Loading images ...\")\n",
    "    root_dir = listdir(directory_root)\n",
    "    for directory in root_dir :\n",
    "        # remove .DS_Store from list\n",
    "        if directory == \".DS_Store\" :\n",
    "            root_dir.remove(directory)\n",
    "\n",
    "    for plant_folder in root_dir :\n",
    "        plant_disease_folder_list = listdir(f\"{directory_root}/{plant_folder}\")\n",
    "        \n",
    "        for disease_folder in plant_disease_folder_list :\n",
    "            # remove .DS_Store from list\n",
    "            if disease_folder == \".DS_Store\" :\n",
    "                plant_disease_folder_list.remove(disease_folder)\n",
    "\n",
    "        for plant_disease_folder in plant_disease_folder_list:\n",
    "            print(f\"[INFO] Processing {plant_disease_folder} ...\")\n",
    "            plant_disease_image_list = listdir(f\"{directory_root}/{plant_folder}/{plant_disease_folder}/\")\n",
    "                \n",
    "            for single_plant_disease_image in plant_disease_image_list :\n",
    "                if single_plant_disease_image == \".DS_Store\" :\n",
    "                    plant_disease_image_list.remove(single_plant_disease_image)\n",
    "\n",
    "            for image in plant_disease_image_list[:200]:\n",
    "                image_directory = f\"{directory_root}/{plant_folder}/{plant_disease_folder}/{image}\"\n",
    "                if image_directory.endswith(\".jpg\") == True or image_directory.endswith(\".JPG\") == True:\n",
    "                    image_list.append(convert_image_to_array(image_directory))\n",
    "                    label_list.append(plant_disease_folder)\n",
    "    print(\"[INFO] Image loading completed\")  \n",
    "except Exception as e:\n",
    "    print(f\"Error : {e}\")"
   ]
  },
  {
   "cell_type": "code",
   "execution_count": 47,
   "metadata": {},
   "outputs": [
    {
     "name": "stdout",
     "output_type": "stream",
     "text": [
      "800\n"
     ]
    }
   ],
   "source": [
    "image_size = len(image_list)\n",
    "print(image_size)"
   ]
  },
  {
   "cell_type": "code",
   "execution_count": 48,
   "metadata": {},
   "outputs": [],
   "source": [
    "label_binarizer = LabelBinarizer()\n",
    "image_labels = label_binarizer.fit_transform(label_list)\n",
    "pickle.dump(label_binarizer,open('label_transform.pkl', 'wb'))\n",
    "n_classes = len(label_binarizer.classes_)"
   ]
  },
  {
   "cell_type": "code",
   "execution_count": 49,
   "metadata": {},
   "outputs": [
    {
     "name": "stdout",
     "output_type": "stream",
     "text": [
      "['Bacterialblight' 'Blast' 'Brownspot' 'Tungro']\n"
     ]
    }
   ],
   "source": [
    "print(label_binarizer.classes_)"
   ]
  },
  {
   "cell_type": "code",
   "execution_count": 50,
   "metadata": {},
   "outputs": [],
   "source": [
    "np_image_list = np.array(image_list, dtype=np.float16) / 225.0"
   ]
  },
  {
   "cell_type": "code",
   "execution_count": 51,
   "metadata": {},
   "outputs": [
    {
     "name": "stdout",
     "output_type": "stream",
     "text": [
      "[INFO] Spliting data to train, test\n"
     ]
    }
   ],
   "source": [
    "print(\"[INFO] Spliting data to train, test\")\n",
    "x_train, x_test, y_train, y_test = train_test_split(np_image_list, image_labels, test_size=0.2, random_state = 42) "
   ]
  },
  {
   "cell_type": "code",
   "execution_count": 52,
   "metadata": {},
   "outputs": [],
   "source": [
    "aug = ImageDataGenerator(\n",
    "    rotation_range=25, width_shift_range=0.1,\n",
    "    height_shift_range=0.1, shear_range=0.2, \n",
    "    zoom_range=0.2,horizontal_flip=True, \n",
    "    fill_mode=\"nearest\")"
   ]
  },
  {
   "cell_type": "code",
   "execution_count": 53,
   "metadata": {},
   "outputs": [],
   "source": [
    "model = Sequential()\n",
    "inputShape = (height, width, depth)\n",
    "chanDim = -1\n",
    "if K.image_data_format() == \"channels_first\":\n",
    "    inputShape = (depth, height, width)\n",
    "    chanDim = 1\n",
    "model.add(Conv2D(32, (3, 3), padding=\"same\",input_shape=inputShape))\n",
    "model.add(Activation(\"relu\"))\n",
    "model.add(BatchNormalization(axis=chanDim))\n",
    "model.add(MaxPooling2D(pool_size=(3, 3)))\n",
    "model.add(Dropout(0.25))\n",
    "model.add(Conv2D(64, (3, 3), padding=\"same\"))\n",
    "model.add(Activation(\"relu\"))\n",
    "model.add(BatchNormalization(axis=chanDim))\n",
    "model.add(Conv2D(64, (3, 3), padding=\"same\"))\n",
    "model.add(Activation(\"relu\"))\n",
    "model.add(BatchNormalization(axis=chanDim))\n",
    "model.add(MaxPooling2D(pool_size=(2, 2)))\n",
    "model.add(Dropout(0.25))\n",
    "model.add(Conv2D(128, (3, 3), padding=\"same\"))\n",
    "model.add(Activation(\"relu\"))\n",
    "model.add(BatchNormalization(axis=chanDim))\n",
    "model.add(Conv2D(128, (3, 3), padding=\"same\"))\n",
    "model.add(Activation(\"relu\"))\n",
    "model.add(BatchNormalization(axis=chanDim))\n",
    "model.add(MaxPooling2D(pool_size=(2, 2)))\n",
    "model.add(Dropout(0.25))\n",
    "model.add(Flatten())\n",
    "model.add(Dense(1024))\n",
    "model.add(Activation(\"relu\"))\n",
    "model.add(BatchNormalization())\n",
    "model.add(Dropout(0.5))\n",
    "model.add(Dense(n_classes))\n",
    "model.add(Activation(\"softmax\"))"
   ]
  },
  {
   "cell_type": "code",
   "execution_count": 54,
   "metadata": {},
   "outputs": [
    {
     "name": "stdout",
     "output_type": "stream",
     "text": [
      "Model: \"sequential_2\"\n",
      "_________________________________________________________________\n",
      " Layer (type)                Output Shape              Param #   \n",
      "=================================================================\n",
      " conv2d_10 (Conv2D)          (None, 256, 256, 32)      896       \n",
      "                                                                 \n",
      " activation_14 (Activation)  (None, 256, 256, 32)      0         \n",
      "                                                                 \n",
      " batch_normalization_12 (Bat  (None, 256, 256, 32)     128       \n",
      " chNormalization)                                                \n",
      "                                                                 \n",
      " max_pooling2d_6 (MaxPooling  (None, 85, 85, 32)       0         \n",
      " 2D)                                                             \n",
      "                                                                 \n",
      " dropout_8 (Dropout)         (None, 85, 85, 32)        0         \n",
      "                                                                 \n",
      " conv2d_11 (Conv2D)          (None, 85, 85, 64)        18496     \n",
      "                                                                 \n",
      " activation_15 (Activation)  (None, 85, 85, 64)        0         \n",
      "                                                                 \n",
      " batch_normalization_13 (Bat  (None, 85, 85, 64)       256       \n",
      " chNormalization)                                                \n",
      "                                                                 \n",
      " conv2d_12 (Conv2D)          (None, 85, 85, 64)        36928     \n",
      "                                                                 \n",
      " activation_16 (Activation)  (None, 85, 85, 64)        0         \n",
      "                                                                 \n",
      " batch_normalization_14 (Bat  (None, 85, 85, 64)       256       \n",
      " chNormalization)                                                \n",
      "                                                                 \n",
      " max_pooling2d_7 (MaxPooling  (None, 42, 42, 64)       0         \n",
      " 2D)                                                             \n",
      "                                                                 \n",
      " dropout_9 (Dropout)         (None, 42, 42, 64)        0         \n",
      "                                                                 \n",
      " conv2d_13 (Conv2D)          (None, 42, 42, 128)       73856     \n",
      "                                                                 \n",
      " activation_17 (Activation)  (None, 42, 42, 128)       0         \n",
      "                                                                 \n",
      " batch_normalization_15 (Bat  (None, 42, 42, 128)      512       \n",
      " chNormalization)                                                \n",
      "                                                                 \n",
      " conv2d_14 (Conv2D)          (None, 42, 42, 128)       147584    \n",
      "                                                                 \n",
      " activation_18 (Activation)  (None, 42, 42, 128)       0         \n",
      "                                                                 \n",
      " batch_normalization_16 (Bat  (None, 42, 42, 128)      512       \n",
      " chNormalization)                                                \n",
      "                                                                 \n",
      " max_pooling2d_8 (MaxPooling  (None, 21, 21, 128)      0         \n",
      " 2D)                                                             \n",
      "                                                                 \n",
      " dropout_10 (Dropout)        (None, 21, 21, 128)       0         \n",
      "                                                                 \n",
      " flatten_2 (Flatten)         (None, 56448)             0         \n",
      "                                                                 \n",
      " dense_4 (Dense)             (None, 1024)              57803776  \n",
      "                                                                 \n",
      " activation_19 (Activation)  (None, 1024)              0         \n",
      "                                                                 \n",
      " batch_normalization_17 (Bat  (None, 1024)             4096      \n",
      " chNormalization)                                                \n",
      "                                                                 \n",
      " dropout_11 (Dropout)        (None, 1024)              0         \n",
      "                                                                 \n",
      " dense_5 (Dense)             (None, 4)                 4100      \n",
      "                                                                 \n",
      " activation_20 (Activation)  (None, 4)                 0         \n",
      "                                                                 \n",
      "=================================================================\n",
      "Total params: 58,091,396\n",
      "Trainable params: 58,088,516\n",
      "Non-trainable params: 2,880\n",
      "_________________________________________________________________\n"
     ]
    }
   ],
   "source": [
    "model.summary()"
   ]
  },
  {
   "cell_type": "code",
   "execution_count": 55,
   "metadata": {},
   "outputs": [
    {
     "name": "stdout",
     "output_type": "stream",
     "text": [
      "[INFO] training network...\n"
     ]
    },
    {
     "name": "stderr",
     "output_type": "stream",
     "text": [
      "c:\\users\\eesha\\appdata\\local\\programs\\python\\python39\\lib\\site-packages\\keras\\optimizers\\optimizer_v2\\adam.py:110: UserWarning: The `lr` argument is deprecated, use `learning_rate` instead.\n",
      "  super(Adam, self).__init__(name, **kwargs)\n"
     ]
    }
   ],
   "source": [
    "opt = Adam(lr=INIT_LR, decay=INIT_LR / EPOCHS)\n",
    "# distribution\n",
    "model.compile(loss=\"binary_crossentropy\", optimizer=opt,metrics=[\"accuracy\"])\n",
    "# train the network\n",
    "print(\"[INFO] training network...\")"
   ]
  },
  {
   "cell_type": "code",
   "execution_count": 56,
   "metadata": {},
   "outputs": [
    {
     "name": "stderr",
     "output_type": "stream",
     "text": [
      "C:\\Users\\eesha\\AppData\\Local\\Temp/ipykernel_15196/1273247788.py:1: UserWarning: `Model.fit_generator` is deprecated and will be removed in a future version. Please use `Model.fit`, which supports generators.\n",
      "  history = model.fit_generator(\n"
     ]
    },
    {
     "name": "stdout",
     "output_type": "stream",
     "text": [
      "Epoch 1/25\n",
      "20/20 [==============================] - 69s 3s/step - loss: 0.7445 - accuracy: 0.6547 - val_loss: 0.9490 - val_accuracy: 0.2750\n",
      "Epoch 2/25\n",
      "20/20 [==============================] - 61s 3s/step - loss: 0.4783 - accuracy: 0.7281 - val_loss: 1.8596 - val_accuracy: 0.2313\n",
      "Epoch 3/25\n",
      "20/20 [==============================] - 53s 3s/step - loss: 0.4367 - accuracy: 0.7672 - val_loss: 2.5181 - val_accuracy: 0.2188\n",
      "Epoch 4/25\n",
      "20/20 [==============================] - 53s 3s/step - loss: 0.3490 - accuracy: 0.8078 - val_loss: 1.7944 - val_accuracy: 0.2688\n",
      "Epoch 5/25\n",
      "20/20 [==============================] - 55s 3s/step - loss: 0.3057 - accuracy: 0.8281 - val_loss: 1.8057 - val_accuracy: 0.2188\n",
      "Epoch 6/25\n",
      "20/20 [==============================] - 54s 3s/step - loss: 0.2673 - accuracy: 0.8469 - val_loss: 1.6538 - val_accuracy: 0.2812\n",
      "Epoch 7/25\n",
      "20/20 [==============================] - 53s 3s/step - loss: 0.2155 - accuracy: 0.8750 - val_loss: 1.4475 - val_accuracy: 0.2500\n",
      "Epoch 8/25\n",
      "20/20 [==============================] - 53s 3s/step - loss: 0.1711 - accuracy: 0.9062 - val_loss: 1.4288 - val_accuracy: 0.2750\n",
      "Epoch 9/25\n",
      "20/20 [==============================] - 53s 3s/step - loss: 0.1936 - accuracy: 0.8938 - val_loss: 1.7415 - val_accuracy: 0.2688\n",
      "Epoch 10/25\n",
      "20/20 [==============================] - 53s 3s/step - loss: 0.1803 - accuracy: 0.8828 - val_loss: 1.5731 - val_accuracy: 0.2937\n",
      "Epoch 11/25\n",
      "20/20 [==============================] - 53s 3s/step - loss: 0.2000 - accuracy: 0.9031 - val_loss: 1.3652 - val_accuracy: 0.3187\n",
      "Epoch 12/25\n",
      "20/20 [==============================] - 53s 3s/step - loss: 0.1555 - accuracy: 0.9109 - val_loss: 1.2622 - val_accuracy: 0.3063\n",
      "Epoch 13/25\n",
      "20/20 [==============================] - 53s 3s/step - loss: 0.1403 - accuracy: 0.9125 - val_loss: 1.1529 - val_accuracy: 0.2688\n",
      "Epoch 14/25\n",
      "20/20 [==============================] - 54s 3s/step - loss: 0.1158 - accuracy: 0.9234 - val_loss: 1.1742 - val_accuracy: 0.2688\n",
      "Epoch 15/25\n",
      "20/20 [==============================] - 53s 3s/step - loss: 0.1059 - accuracy: 0.9422 - val_loss: 1.0174 - val_accuracy: 0.3313\n",
      "Epoch 16/25\n",
      "20/20 [==============================] - 55s 3s/step - loss: 0.1080 - accuracy: 0.9312 - val_loss: 0.8048 - val_accuracy: 0.3125\n",
      "Epoch 17/25\n",
      "20/20 [==============================] - 55s 3s/step - loss: 0.0899 - accuracy: 0.9422 - val_loss: 0.7199 - val_accuracy: 0.4812\n",
      "Epoch 18/25\n",
      "20/20 [==============================] - 54s 3s/step - loss: 0.0907 - accuracy: 0.9547 - val_loss: 0.6466 - val_accuracy: 0.5063\n",
      "Epoch 19/25\n",
      "20/20 [==============================] - 54s 3s/step - loss: 0.0857 - accuracy: 0.9531 - val_loss: 0.6908 - val_accuracy: 0.4062\n",
      "Epoch 20/25\n",
      "20/20 [==============================] - 54s 3s/step - loss: 0.1004 - accuracy: 0.9422 - val_loss: 0.3626 - val_accuracy: 0.7688\n",
      "Epoch 21/25\n",
      "20/20 [==============================] - 53s 3s/step - loss: 0.1214 - accuracy: 0.9234 - val_loss: 0.3742 - val_accuracy: 0.7250\n",
      "Epoch 22/25\n",
      "20/20 [==============================] - 55s 3s/step - loss: 0.1121 - accuracy: 0.9391 - val_loss: 0.3042 - val_accuracy: 0.7563\n",
      "Epoch 23/25\n",
      "20/20 [==============================] - 54s 3s/step - loss: 0.0923 - accuracy: 0.9469 - val_loss: 1.1105 - val_accuracy: 0.3812\n",
      "Epoch 24/25\n",
      "20/20 [==============================] - 53s 3s/step - loss: 0.0721 - accuracy: 0.9578 - val_loss: 0.2817 - val_accuracy: 0.8250\n",
      "Epoch 25/25\n",
      "20/20 [==============================] - 53s 3s/step - loss: 0.0800 - accuracy: 0.9453 - val_loss: 0.2495 - val_accuracy: 0.8500\n"
     ]
    }
   ],
   "source": [
    "history = model.fit_generator(\n",
    "    aug.flow(x_train, y_train, batch_size=BS),\n",
    "    validation_data=(x_test, y_test),\n",
    "    steps_per_epoch=len(x_train) // BS,\n",
    "    epochs=EPOCHS, verbose=1\n",
    "    )"
   ]
  },
  {
   "cell_type": "code",
   "execution_count": 57,
   "metadata": {},
   "outputs": [
    {
     "data": {
      "image/png": "[encoded data removed]",
      "text/plain": [
       "<Figure size 432x288 with 1 Axes>"
      ]
     },
     "metadata": {
      "needs_background": "light"
     },
     "output_type": "display_data"
    },
    {
     "data": {
      "image/png": "[encoded data removed]",
      "text/plain": [
       "<Figure size 432x288 with 1 Axes>"
      ]
     },
     "metadata": {
      "needs_background": "light"
     },
     "output_type": "display_data"
    }
   ],
   "source": [
    "acc = history.history['accuracy']\n",
    "val_acc = history.history['val_accuracy']\n",
    "loss = history.history['loss']\n",
    "val_loss = history.history['val_loss']\n",
    "epochs = range(1, len(acc) + 1)\n",
    "#Train and validation accuracy\n",
    "plt.plot(epochs, acc, 'b', label='Training accurarcy')\n",
    "plt.plot(epochs, val_acc, 'r', label='Validation accurarcy')\n",
    "plt.title('Training and Validation accurarcy')\n",
    "plt.legend()\n",
    "\n",
    "plt.figure()\n",
    "#Train and validation loss\n",
    "plt.plot(epochs, loss, 'b', label='Training loss')\n",
    "plt.plot(epochs, val_loss, 'r', label='Validation loss')\n",
    "plt.title('Training and Validation loss')\n",
    "plt.legend()\n",
    "plt.show()"
   ]
  },
  {
   "cell_type": "code",
   "execution_count": 58,
   "metadata": {},
   "outputs": [
    {
     "name": "stdout",
     "output_type": "stream",
     "text": [
      "[INFO] Calculating model accuracy\n",
      "5/5 [==============================] - 2s 382ms/step - loss: 0.2495 - accuracy: 0.8500\n",
      "Test Accuracy: 85.00000238418579\n"
     ]
    }
   ],
   "source": [
    "print(\"[INFO] Calculating model accuracy\")\n",
    "scores = model.evaluate(x_test, y_test)\n",
    "print(f\"Test Accuracy: {scores[1]*100}\")"
   ]
  },
  {
   "cell_type": "code",
   "execution_count": 59,
   "metadata": {},
   "outputs": [
    {
     "name": "stdout",
     "output_type": "stream",
     "text": [
      "5/5 [==============================] - 2s 372ms/step\n"
     ]
    }
   ],
   "source": [
    "from sklearn.metrics import confusion_matrix\n",
    "predictions=(model.predict(x_test)> 0.5).astype(\"int32\")\n",
    "confusion_matrix=confusion_matrix(np.asarray(y_test).argmax(axis=1),predictions.argmax(axis=1))"
   ]
  },
  {
   "cell_type": "code",
   "execution_count": 60,
   "metadata": {},
   "outputs": [
    {
     "name": "stdout",
     "output_type": "stream",
     "text": [
      "[[30  5  2  0]\n",
      " [ 2 37  4  0]\n",
      " [ 2  7 26  0]\n",
      " [ 1  1  0 43]]\n"
     ]
    }
   ],
   "source": [
    "print(confusion_matrix)"
   ]
  },
  {
   "cell_type": "code",
   "execution_count": 61,
   "metadata": {},
   "outputs": [],
   "source": [
    "from sklearn.metrics import confusion_matrix"
   ]
  },
  {
   "cell_type": "code",
   "execution_count": 62,
   "metadata": {},
   "outputs": [
    {
     "name": "stdout",
     "output_type": "stream",
     "text": [
      "5/5 [==============================] - 2s 429ms/step\n"
     ]
    },
    {
     "data": {
      "text/plain": [
       "array([3, 3, 0, 2, 0, 3, 1, 2, 3, 2, 0, 1, 3, 0, 1, 1, 1, 1, 3, 2, 3, 2,\n",
       "       3, 3, 1, 0, 1, 3, 3, 2, 1, 0, 2, 1, 0, 0, 3, 1, 3, 3, 0, 1, 0, 1,\n",
       "       2, 2, 2, 2, 3, 2, 1, 0, 3, 1, 1, 1, 2, 1, 0, 0, 2, 3, 3, 1, 1, 2,\n",
       "       0, 3, 1, 0, 2, 0, 3, 0, 0, 0, 1, 2, 2, 2, 2, 0, 0, 0, 2, 3, 3, 1,\n",
       "       1, 0, 3, 3, 1, 1, 3, 3, 3, 3, 0, 3, 0, 2, 0, 0, 0, 1, 1, 3, 1, 1,\n",
       "       2, 2, 0, 0, 3, 0, 2, 3, 1, 1, 1, 1, 0, 3, 1, 1, 2, 0, 1, 3, 3, 1,\n",
       "       0, 3, 1, 2, 3, 1, 3, 2, 1, 2, 2, 1, 0, 2, 0, 1, 3, 2, 3, 0, 3, 3,\n",
       "       2, 2, 3, 3, 2, 3], dtype=int64)"
      ]
     },
     "execution_count": 62,
     "metadata": {},
     "output_type": "execute_result"
    }
   ],
   "source": [
    "from sklearn.metrics import classification_report\n",
    "pred = model.predict(x_test, batch_size = 32)\n",
    "pred = np.argmax(pred, axis=1)\n",
    "# label\n",
    "y_target = np.argmax(y_test, axis=1)\n",
    "y_target"
   ]
  },
  {
   "cell_type": "code",
   "execution_count": 63,
   "metadata": {},
   "outputs": [
    {
     "name": "stdout",
     "output_type": "stream",
     "text": [
      "                 precision    recall  f1-score   support\n",
      "\n",
      "Bacterialblight       0.86      0.81      0.83        37\n",
      "          Blast       0.74      0.86      0.80        43\n",
      "      Brownspot       0.81      0.74      0.78        35\n",
      "         Tungro       1.00      0.96      0.98        45\n",
      "\n",
      "       accuracy                           0.85       160\n",
      "      macro avg       0.85      0.84      0.85       160\n",
      "   weighted avg       0.86      0.85      0.85       160\n",
      "\n"
     ]
    }
   ],
   "source": [
    "print(classification_report(y_target, pred, target_names = label_binarizer.classes_))"
   ]
  },
  {
   "cell_type": "code",
   "execution_count": null,
   "metadata": {},
   "outputs": [],
   "source": []
  }
 ],
 "metadata": {
  "kernelspec": {
   "display_name": "Python 3",
   "language": "python",
   "name": "python3"
  },
  "language_info": {
   "codemirror_mode": {
    "name": "ipython",
    "version": 3
   },
   "file_extension": ".py",
   "mimetype": "text/x-python",
   "name": "python",
   "nbconvert_exporter": "python",
   "pygments_lexer": "ipython3",
   "version": "3.8.8"
  }
 },
 "nbformat": 4,
 "nbformat_minor": 4
}
